{
  "nbformat": 4,
  "nbformat_minor": 0,
  "metadata": {
    "colab": {
      "provenance": [],
      "authorship_tag": "ABX9TyPh1myv16TLIKw9p8kUzpkz",
      "include_colab_link": true
    },
    "kernelspec": {
      "name": "python3",
      "display_name": "Python 3"
    },
    "language_info": {
      "name": "python"
    }
  },
  "cells": [
    {
      "cell_type": "markdown",
      "metadata": {
        "id": "view-in-github",
        "colab_type": "text"
      },
      "source": [
        "<a href=\"https://colab.research.google.com/github/Higor-V/PythonFatec/blob/main/P1_ALGORITMOS_E_PROGRAMA%C3%87%C3%83O.ipynb\" target=\"_parent\"><img src=\"https://colab.research.google.com/assets/colab-badge.svg\" alt=\"Open In Colab\"/></a>"
      ]
    },
    {
      "cell_type": "markdown",
      "source": [
        "1. Peça o nome e mostre uma mensagem de boas\n",
        "vindas ao usuário."
      ],
      "metadata": {
        "id": "q7q9GzmlGAaq"
      }
    },
    {
      "cell_type": "code",
      "source": [
        "# Seu código aqui...\n",
        "\n",
        "print (\"Seja bem vindo Usuario!\")"
      ],
      "metadata": {
        "colab": {
          "base_uri": "https://localhost:8080/"
        },
        "id": "KvrATyG-GEzr",
        "outputId": "0b7ca89d-7eeb-4769-ea97-94cfeede15cd"
      },
      "execution_count": 6,
      "outputs": [
        {
          "output_type": "stream",
          "name": "stdout",
          "text": [
            "Seja bem vindo Usuario!\n"
          ]
        }
      ]
    },
    {
      "cell_type": "markdown",
      "source": [
        "2. Solicite ao usuário dois números. Apresente a Soma,\n",
        "Subtração, Divisão e Multiplicação destes dois números.\n"
      ],
      "metadata": {
        "id": "X8rmz3JJGxB0"
      }
    },
    {
      "cell_type": "code",
      "source": [
        "# Seu código aqui...\n",
        "n1 = int(input (\"Digite um número: \"))\n",
        "n2 = int(input (\"Digite um segundo número: \"))\n",
        "\n",
        "soma = n1 + n2\n",
        "subt = n1 - n2\n",
        "mult = n1 * n2\n",
        "divs = n1 / n2\n",
        "print (\"       \")\n",
        "print (\"Soma dos números é:\",soma)\n",
        "print (\"Subtração dos números é:\",subt)\n",
        "print (\"Multiplicação dos números é:\",mult)\n",
        "print (\"Divisão entre esses números é:\",divs)"
      ],
      "metadata": {
        "colab": {
          "base_uri": "https://localhost:8080/"
        },
        "id": "UJ8Qks3mG1oe",
        "outputId": "a7533f3b-30c1-4cb7-a33c-a6b9e4507baf"
      },
      "execution_count": 10,
      "outputs": [
        {
          "output_type": "stream",
          "name": "stdout",
          "text": [
            "Digite um número: 22\n",
            "Digite um segundo número: 4\n",
            "       \n",
            "Soma dos números é: 26\n",
            "Subtração dos números é: 18\n",
            "Multiplicação dos números é: 88\n",
            "Divisão entre esses números é: 5.5\n"
          ]
        }
      ]
    },
    {
      "cell_type": "markdown",
      "source": [
        "3. Um novo modelo de carro, super econômico foi\n",
        "lançado. Ele faz 20 km com 1 litro de combustível. Cada\n",
        "litro de combustível custa R$ 5,00. Faça um programa\n",
        "que pergunte ao usuário quanto de dinheiro ele tem e em\n",
        "seguida diga quantos litros de combustível ele pode\n",
        "comprar e quantos kilometros o carro consegue andar\n",
        "com esta quantidade de combustível."
      ],
      "metadata": {
        "id": "rAbpns__JGQr"
      }
    },
    {
      "cell_type": "code",
      "source": [
        "# Seu código aqui...\n",
        "cash = float(input(\"Digite quanto dinheiro você tem: \"))\n",
        "litros = cash / 5\n",
        "km = litros * 20\n",
        "\n",
        "print (\"       \")\n",
        "print (\"Você pode comprar\",litros,\"litro(s) de gasolina.\")\n",
        "print (\"       \")\n",
        "print (\"E pode andar:\",km,\"Kilometros com essa quantidade.\")"
      ],
      "metadata": {
        "colab": {
          "base_uri": "https://localhost:8080/"
        },
        "id": "sH2VTwdkJK_e",
        "outputId": "3f9f8636-4dcc-4b8d-bc34-390b930b31f4"
      },
      "execution_count": 4,
      "outputs": [
        {
          "output_type": "stream",
          "name": "stdout",
          "text": [
            "Digite quanto dinheiro você tem: 32\n",
            "       \n",
            "Você pode comprar 6.4 litro(s) de gasolina.\n",
            "       \n",
            "E pode andar: 128.0 Kilometros com essa quantidade.\n"
          ]
        }
      ]
    },
    {
      "cell_type": "markdown",
      "source": [
        "4. Sendo v1 = 15, v2 = 10, v3 = 5, v4 = 0, defina qual será\n",
        "a resposta (VERDADEIRO OU FALSO) para as sentenças\n",
        "lógicas abaixo."
      ],
      "metadata": {
        "id": "szkDRDxyL9pn"
      }
    },
    {
      "cell_type": "code",
      "source": [
        "# Seu código aqui...\n",
        "v1 = 15\n",
        "v2 = 10\n",
        "v3 = 5\n",
        "v4 = 0\n",
        "\n",
        "result_a =  (v1 == 10) and (v2 == 10)\n",
        "result_b =  (v1 == 15) and (v2 == 10)\n",
        "result_c =  (v4 == 1) or (v3 == 4)\n",
        "result_d =  (v1 > 10 and v2 < 15) and (v3 < 10 and v4 == 0)\n",
        "result_e =  (v1 < 10 and v2 > 15) or (v3 > 5 or v4 == 0)\n",
        "\n",
        "print (\"A):\",result_a)\n",
        "print (\"       \")\n",
        "print (\"B):\",result_b)\n",
        "print (\"       \")\n",
        "print (\"C):\",result_c)\n",
        "print (\"       \")\n",
        "print (\"D):\",result_d)\n",
        "print (\"       \")\n",
        "print (\"E):\",result_e)\n",
        "\n"
      ],
      "metadata": {
        "colab": {
          "base_uri": "https://localhost:8080/"
        },
        "id": "ZGhLE6-_MEk_",
        "outputId": "f256563d-b7d1-407f-8a56-224265eac44f"
      },
      "execution_count": 6,
      "outputs": [
        {
          "output_type": "stream",
          "name": "stdout",
          "text": [
            "A): False\n",
            "       \n",
            "B): True\n",
            "       \n",
            "C): False\n",
            "       \n",
            "D): True\n",
            "       \n",
            "E): True\n"
          ]
        }
      ]
    },
    {
      "cell_type": "markdown",
      "source": [
        "5. Solicite ao usuário uma quantidade de dias (utilizar\n",
        "sempre números inteiros, por exemplo: 523), o programa\n",
        "deve informar com base neste número: a quantidade de\n",
        "anos, meses e dias correspondente ao número\n",
        "informado. Considerar para um ano 360 dias e para um\n",
        "mês 30 dias."
      ],
      "metadata": {
        "id": "iXhCEL7ONm_s"
      }
    },
    {
      "cell_type": "code",
      "source": [
        "# Seu código aqui...\n",
        "dias = int(input(\"Digite uma quantidade de dias: \"))\n",
        "anos = dias // 360\n",
        "meses = (dias % 360) // 30\n",
        "DiasAgain = (dias % 360) % 30\n",
        "\n",
        "print (\"       \")\n",
        "print (\"Os dias mencionados representam:\",anos,\"anos,\",meses,\"meses e\",DiasAgain,\"dias\")"
      ],
      "metadata": {
        "id": "duw0sZbfRqYz"
      },
      "execution_count": null,
      "outputs": []
    },
    {
      "cell_type": "markdown",
      "source": [
        "6. Sabendo que A, B e C são variáveis do tipo inteiro, com\n",
        "valores iguais a 5, 10 e -8, respectivamente, e uma\n",
        "variável do tipo real D, com valor de 1,5. Quais os\n",
        "resultados das expressões aritméticas a seguir?\n"
      ],
      "metadata": {
        "id": "baLEMf1PRMXc"
      }
    },
    {
      "cell_type": "code",
      "source": [
        "# Seu código aqui...\n",
        "A = 5\n",
        "B = 10\n",
        "C = -8\n",
        "D = 1.5\n",
        "\n",
        "result_A = 2 * A % 3 - C\n",
        "result_B = (-2 * C)**0.5 // 4 #Passar essa radiciação pra frente, pelo amor, até eu descobrir isso... quase fiquei maluco com a calculadora dando número diferente'-'\n",
        "result_C = ((20 // 3) // 3) + 8**2/2\n",
        "result_D = (30 % 4) * (3**3) * -1\n",
        "result_E = (-C**2) + (D * 10)/A\n",
        "result_F = (A**(B/A))**0.5 + C * D\n",
        "\n",
        "print (\"A)\",result_A)\n",
        "print (\"       \")\n",
        "print (\"B)\",result_B)\n",
        "print (\"       \")\n",
        "print (\"C)\",result_C)\n",
        "print (\"       \")\n",
        "print (\"D)\",result_D)\n",
        "print (\"       \")\n",
        "print (\"E)\",result_E)\n",
        "print (\"       \")\n",
        "print (\"F)\",result_F)\n",
        "\n",
        "\n",
        "\n",
        "\n"
      ],
      "metadata": {
        "colab": {
          "base_uri": "https://localhost:8080/"
        },
        "id": "Jz9V9IfGRP1t",
        "outputId": "3be19c26-c038-46ac-d14c-602e725535ed"
      },
      "execution_count": 22,
      "outputs": [
        {
          "output_type": "stream",
          "name": "stdout",
          "text": [
            "A) 9\n",
            "       \n",
            "B) 1.0\n",
            "       \n",
            "C) 34.0\n",
            "       \n",
            "D) -54\n",
            "       \n",
            "E) -61.0\n",
            "       \n",
            "F) -7.0\n"
          ]
        }
      ]
    }
  ]
}