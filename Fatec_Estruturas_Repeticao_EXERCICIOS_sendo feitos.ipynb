{
  "nbformat": 4,
  "nbformat_minor": 0,
  "metadata": {
    "colab": {
      "provenance": [],
      "include_colab_link": true
    },
    "kernelspec": {
      "name": "python3",
      "display_name": "Python 3"
    },
    "language_info": {
      "name": "python"
    }
  },
  "cells": [
    {
      "cell_type": "markdown",
      "metadata": {
        "id": "view-in-github",
        "colab_type": "text"
      },
      "source": [
        "<a href=\"https://colab.research.google.com/github/Higor-V/PythonFatec/blob/main/Fatec_Estruturas_Repeticao_EXERCICIOS_sendo%20feitos.ipynb\" target=\"_parent\"><img src=\"https://colab.research.google.com/assets/colab-badge.svg\" alt=\"Open In Colab\"/></a>"
      ]
    },
    {
      "cell_type": "markdown",
      "source": [
        "1- Faça um programa que peça uma nota, entre zero e dez. Mostre uma mensagem caso o valor seja inválido e continue pedindo até que o usuário informe um valor válido."
      ],
      "metadata": {
        "id": "4BHkhl1eO0V4"
      }
    },
    {
      "cell_type": "code",
      "source": [
        "# SEU CÓDIGO AQUI...\n",
        "nota = float(input(\"Digite uma nota de 0 a 10: \"))\n",
        "while nota < 0 or nota > 10:\n",
        "  print(\"Nota inválida\")\n",
        "  nota = float(input(\"Digite uma nota válida: \"))\n",
        "else:\n",
        "  print(\"Nota\",nota,\"Computada com sucesso!\")"
      ],
      "metadata": {
        "id": "4aR8eWjyO20P",
        "outputId": "7a513ebd-6355-42eb-9a5e-4c1ca5b99240",
        "colab": {
          "base_uri": "https://localhost:8080/"
        }
      },
      "execution_count": null,
      "outputs": [
        {
          "output_type": "stream",
          "name": "stdout",
          "text": [
            "Digite uma nota de 0 a 10: -2\n",
            "Nota inválida\n",
            "Digite uma nota válida: 11\n",
            "Nota inválida\n",
            "Digite uma nota válida: 7.5\n",
            "Nota 7.5 Computada com sucesso!\n"
          ]
        }
      ]
    },
    {
      "cell_type": "markdown",
      "source": [
        "2- Faça um programa que leia um nome de usuário e a sua senha e não aceite a senha igual ao nome do usuário, mostrando uma mensagem de erro e voltando a pedir as informações."
      ],
      "metadata": {
        "id": "8xLNyx3vO6__"
      }
    },
    {
      "cell_type": "code",
      "source": [
        "# SEU CÓDIGO AQUI...\n",
        "login = input(\"Digite um login: \")\n",
        "senha = input(\"Digite uma senha: \")\n",
        "while senha == login:\n",
        "  print(\"Senha inválida\")\n",
        "  senha = input(\"Digite uma senha diferente do login: \")\n",
        "else:\n",
        "  print(\"Cadastro efetuado com Sucesso!\")"
      ],
      "metadata": {
        "id": "x21IQbJqPDtI",
        "outputId": "56055734-eeec-486f-e9ea-ae32e06cd441",
        "colab": {
          "base_uri": "https://localhost:8080/"
        }
      },
      "execution_count": null,
      "outputs": [
        {
          "output_type": "stream",
          "name": "stdout",
          "text": [
            "Digite um login: aristeu\n",
            "Digite uma senha: aristeu\n",
            "Senha inválida\n",
            "Digite uma senha diferente do login: 123\n",
            "Cadastro efetuado com Sucesso!\n"
          ]
        }
      ]
    },
    {
      "cell_type": "markdown",
      "source": [
        "3- Faça um programa que leia e valide as seguintes informações:\n",
        "*   Nome: maior que 3 caracteres;\n",
        "*   Idade: entre 0 e 150;\n",
        "*   Salário: maior que zero;\n",
        "*   Sexo: 'f' ou 'm';\n",
        "*   Estado Civil: 's', 'c', 'v', 'd';\n",
        "\n",
        "Use a função **len(string)** para saber o tamanho de um texto (número de caracteres).\n"
      ],
      "metadata": {
        "id": "l24MnOXFPG7n"
      }
    },
    {
      "cell_type": "code",
      "source": [
        "from re import S\n",
        "# Crie seu personagem\n",
        "nome = input(\"Digite um nome com mais de 3 caracteres: \")\n",
        "while len(nome) <= 3:\n",
        " print(\"Nome inválido\")\n",
        " nome = input(\"Digite um nome com mais de 3 caracteres: \")\n",
        "\n",
        "else:\n",
        "\n",
        "  idade = int(input(\"Digite uma idade de 0 a 150: \"))\n",
        "while idade < 0 or idade > 150:\n",
        "  print(\"Idade inválida!\")\n",
        "  idade = int(input(\"Digite novamente uma idade de 0 a 150: \"))\n",
        "\n",
        "else:\n",
        "\n",
        "  salario = float(input(\"Digite um salário acima de 0: \"))\n",
        "while salario <= 0:\n",
        "  print(\"Salário inválido!\")\n",
        "  salario = float(input(\"Digite um salário válido: \"))\n",
        "\n",
        "else:\n",
        "\n",
        "  sexo = input(\"Selecione um sexo, digitando 'F'(feminino) ou 'M'(masculino): \")\n",
        "while sexo != 'f' and sexo != 'm':\n",
        "  print(\"Sexo inválido!\")\n",
        "  sexo = input(\"Por favor digite um sexo válido, F(Feminino) ou M(Masculino): \")\n",
        "\n",
        "else:\n",
        "\n",
        "  EstadoCivil = input(\"Digite seu estado civíl S(solteiro(a)), C(Casado(a)), V(Viuvo(a)) ou D(Divorciado(a)): \")\n",
        "while EstadoCivil != 's' and EstadoCivil != 'c' and EstadoCivil != 'v' and EstadoCivil != 'd':\n",
        "  print(\"Estado Civíl inválido!\")\n",
        "  EstadoCivil = input(\"Digite um estado civíl válido: \")\n",
        "\n",
        "else:\n",
        "  print(\"Dados cadastrados com sucesso!\")"
      ],
      "metadata": {
        "id": "w28p4gJ8Pc2b",
        "outputId": "7ddedbb0-6bd2-4f9a-d489-895f523ad349",
        "colab": {
          "base_uri": "https://localhost:8080/"
        }
      },
      "execution_count": null,
      "outputs": [
        {
          "output_type": "stream",
          "name": "stdout",
          "text": [
            "Digite um nome com mais de 3 caracteres: joao\n",
            "Digite uma idade de 0 a 150: 140\n",
            "Digite um salário acima de 0: 1500\n",
            "Selecione um sexo, digitando 'F'(feminino) ou 'M'(masculino): a\n",
            "Sexo inválido!\n",
            "Por favor digite um sexo válido, F(Feminino) ou M(Masculino): b\n",
            "Sexo inválido!\n",
            "Por favor digite um sexo válido, F(Feminino) ou M(Masculino): f\n",
            "Digite seu estado civíl S(solteiro(a)), C(Casado(a)), V(Viuvo(a)) ou D(Divorciado(a)): a\n",
            "Estado Civíl inválido!\n",
            "Digite um estado civíl válido: g\n",
            "Estado Civíl inválido!\n",
            "Digite um estado civíl válido: f\n",
            "Estado Civíl inválido!\n",
            "Digite um estado civíl válido: s\n",
            "Dados cadastrados com sucesso!\n"
          ]
        }
      ]
    },
    {
      "cell_type": "markdown",
      "source": [
        "4- Supondo que a população de um país A seja da ordem de 80000 habitantes com uma taxa anual de crescimento de 3% e que a população de B seja 200000 habitantes com uma taxa de crescimento de 1.5%. Faça um programa que calcule e escreva o número de anos necessários para que a população do país A ultrapasse ou iguale a população do país B, mantidas as taxas de crescimento."
      ],
      "metadata": {
        "id": "8WpDFV0uP1DX"
      }
    },
    {
      "cell_type": "code",
      "source": [
        "# SEU CÓDIGO AQUI...\n",
        "popA = 80000\n",
        "popB = 200000\n",
        "taxA = 0.03\n",
        "taxB = 0.015\n",
        "ano = 0\n",
        "\n",
        "while popA < popB:\n",
        "  popA = popA + (popA*taxA)\n",
        "  popB = popB + (popB*taxB)\n",
        "  ano += 1\n",
        "\n",
        "if(popA > popB):\n",
        " print(\"Após:\",ano,\"haverá ultrapassagem na população da população A em relaçãoa a B!\")"
      ],
      "metadata": {
        "id": "Qszzk46vzGoS",
        "outputId": "7882de6c-a154-4a7c-9df4-9e9df2dcd06b",
        "colab": {
          "base_uri": "https://localhost:8080/"
        }
      },
      "execution_count": null,
      "outputs": [
        {
          "output_type": "stream",
          "name": "stdout",
          "text": [
            "Após: 63 haverá ultrapassagem na população da população A em relaçãoa a B!\n"
          ]
        }
      ]
    },
    {
      "cell_type": "markdown",
      "source": [
        "5- Altere o programa anterior permitindo ao usuário informar as populações e as taxas de crescimento iniciais. Valide a entrada e permita repetir a operação."
      ],
      "metadata": {
        "id": "GaMiWS9DP-zf"
      }
    },
    {
      "cell_type": "code",
      "source": [
        "# SEU CÓDIGO AQUI...\n",
        "popA = int(input(\"Digite a quantidade populacional da cidade A(Menor que B): \"))\n",
        "popB = int(input(\"Digite a quantidade populacional da cidade B(Maior que A): \"))\n",
        "ano = 0\n",
        "\n",
        "\n",
        "while popA > popB:\n",
        "  print(\"População inválida!\")\n",
        "  popB = int(input(\"Digite a quantidade populacional correta da cidade B!: \"))\n",
        "else:\n",
        "\n",
        " taxA = float(input(\"Digite a taxa de crescimento da cidade A(Maior que B)\"))\n",
        " taxB = float(input(\"Digite a taxa de crescimento da cidade B(Menor que A)\"))\n",
        "\n",
        " taxA = taxA / 100\n",
        " taxB = taxB / 100\n",
        "\n",
        "while taxA < taxB:\n",
        "   print(\"Taxa incorreta!\")\n",
        "   taxB = float(input(\"Digite a taxa correta da cidade B!: \"))\n",
        "\n",
        "else:\n",
        "\n",
        "\n",
        " while popA < popB:\n",
        "  popA = popA + (popA*taxA)\n",
        "  popB = popB + (popB*taxB)\n",
        "  ano += 1\n",
        "\n",
        "if(popA > popB):\n",
        " print(\"Após:\",ano,\"haverá ultrapassagem na população da população A em relaçãoa a B!\")"
      ],
      "metadata": {
        "id": "ibOa9dT0P5iD",
        "outputId": "8f59f548-ccb9-4ce6-9860-6b3bb47c277b",
        "colab": {
          "base_uri": "https://localhost:8080/"
        }
      },
      "execution_count": null,
      "outputs": [
        {
          "output_type": "stream",
          "name": "stdout",
          "text": [
            "Digite a quantidade populacional da cidade A(Menor que B): 80000\n",
            "Digite a quantidade populacional da cidade B(Maior que A): 200000\n",
            "Digite a taxa de crescimento da cidade A(Maior que B)3\n",
            "Digite a taxa de crescimento da cidade B(Menor que A)1.5\n",
            "Após: 63 haverá ultrapassagem na população da população A em relaçãoa a B!\n"
          ]
        }
      ]
    },
    {
      "cell_type": "markdown",
      "source": [
        "6- Faça um programa que imprima na tela os números de 1 a 20, um abaixo do outro. Depois modifique o programa para que ele mostre os números um ao lado do outro."
      ],
      "metadata": {
        "id": "HF_S1CYWQG1v"
      }
    },
    {
      "cell_type": "code",
      "source": [
        "# SEU CÓDIGO AQUI...\n",
        "x = 1\n",
        "#while x <= 20:\n",
        " # print(x)\n",
        " # x +=1\n",
        "\n",
        "for x in range(1,21):\n",
        "  print(x, end = ' ')"
      ],
      "metadata": {
        "id": "ns_qNgR2zIPJ",
        "outputId": "7f4a7794-b1e3-4a61-8df5-a1bee140de12",
        "colab": {
          "base_uri": "https://localhost:8080/"
        }
      },
      "execution_count": null,
      "outputs": [
        {
          "output_type": "stream",
          "name": "stdout",
          "text": [
            "1 2 3 4 5 6 7 8 9 10 11 12 13 14 15 16 17 18 19 20 "
          ]
        }
      ]
    },
    {
      "cell_type": "markdown",
      "source": [
        "7- Faça um programa que leia 5 números e informe o maior número."
      ],
      "metadata": {
        "id": "v7UrGR9MQLnW"
      }
    },
    {
      "cell_type": "code",
      "source": [
        "MNum = -999999999\n",
        "\n",
        "for x in range(5):\n",
        "    num = int(input(\"Digite um número: \"))\n",
        "    if num > MNum:\n",
        "        MNum = num\n",
        "\n",
        "print(\"O maior número é\",MNum)\n"
      ],
      "metadata": {
        "id": "spqGd-8IaSuG",
        "outputId": "0dd3e248-0c8b-4d54-cd3a-dd5cb7be8cfa",
        "colab": {
          "base_uri": "https://localhost:8080/"
        }
      },
      "execution_count": null,
      "outputs": [
        {
          "output_type": "stream",
          "name": "stdout",
          "text": [
            "Digite um número: 9\n",
            "Digite um número: 65\n",
            "Digite um número: 12\n",
            "Digite um número: 35\n",
            "Digite um número: 1\n",
            "O maior número é 65\n"
          ]
        }
      ]
    },
    {
      "cell_type": "markdown",
      "source": [
        "8- Faça um programa que leia 5 números e informe a soma e a média dos números."
      ],
      "metadata": {
        "id": "B-7qr6k3QQsg"
      }
    },
    {
      "cell_type": "code",
      "source": [
        "# SEU CÓDIGO AQUI...1\n",
        "\n",
        "num = int(input('Digite 5 números e use 0 para somar: '))\n",
        "soma = num\n",
        "while num != 0 :\n",
        "  num = int(input('Digite outro número: '))\n",
        "  soma += num\n",
        "\n",
        "print(soma)"
      ],
      "metadata": {
        "id": "pmJfzKWjQR0-",
        "outputId": "2fd9b168-5c1c-4ae4-a1e6-98e7a99ff9cb",
        "colab": {
          "base_uri": "https://localhost:8080/"
        }
      },
      "execution_count": null,
      "outputs": [
        {
          "output_type": "stream",
          "name": "stdout",
          "text": [
            "Digite 5 números e use 0 para somar: 10\n",
            "Digite outro número: 20\n",
            "Digite outro número: 30\n",
            "Digite outro número: 40\n",
            "Digite outro número: 50\n",
            "Digite outro número: 0\n",
            "150\n"
          ]
        }
      ]
    },
    {
      "cell_type": "markdown",
      "source": [
        "9- Faça um programa que imprima na tela apenas os números ímpares entre 1 e 50."
      ],
      "metadata": {
        "id": "nUAFdwiYQU9H"
      }
    },
    {
      "cell_type": "code",
      "source": [
        "# SEU CÓDIGO AQUI...\n",
        "x = 1\n",
        "while x < 50:\n",
        " if x % 2 == 1:\n",
        "  print(x)\n",
        " x += 1"
      ],
      "metadata": {
        "id": "dttpJpn3QV73",
        "outputId": "8fa36154-6153-4445-e945-2a42388266ae",
        "colab": {
          "base_uri": "https://localhost:8080/"
        }
      },
      "execution_count": null,
      "outputs": [
        {
          "output_type": "stream",
          "name": "stdout",
          "text": [
            "1\n",
            "3\n",
            "5\n",
            "7\n",
            "9\n",
            "11\n",
            "13\n",
            "15\n",
            "17\n",
            "19\n",
            "21\n",
            "23\n",
            "25\n",
            "27\n",
            "29\n",
            "31\n",
            "33\n",
            "35\n",
            "37\n",
            "39\n",
            "41\n",
            "43\n",
            "45\n",
            "47\n",
            "49\n"
          ]
        }
      ]
    },
    {
      "cell_type": "markdown",
      "source": [
        "10- Faça um programa que receba dois números inteiros e gere os números inteiros que estão no intervalo compreendido por eles."
      ],
      "metadata": {
        "id": "XMh61ATtQaQ2"
      }
    },
    {
      "cell_type": "code",
      "source": [
        "# SEU CÓDIGO AQUI...\n",
        "num1 = int(input(\"Digite o 1º número: \"))\n",
        "num2 = int(input(\"Digite o 2º número: \"))\n",
        "\n",
        "if num1 < num2:\n",
        "  menor = num1\n",
        "  maior = num2\n",
        "\n",
        "print(\"numeros inteiros no intervalo: \")\n",
        "for x in range(menor + 1, maior):\n",
        "  print(x)\n",
        "\n"
      ],
      "metadata": {
        "id": "ijjW78AqQbRo",
        "outputId": "0d1050b1-09c5-4077-fa9f-81cc4f109c85",
        "colab": {
          "base_uri": "https://localhost:8080/"
        }
      },
      "execution_count": null,
      "outputs": [
        {
          "output_type": "stream",
          "name": "stdout",
          "text": [
            "Digite o 1º número: 1\n",
            "Digite o 2º número: 9\n",
            "numeros inteiros no intervalo: \n",
            "2\n",
            "3\n",
            "4\n",
            "5\n",
            "6\n",
            "7\n",
            "8\n"
          ]
        }
      ]
    },
    {
      "cell_type": "markdown",
      "source": [
        "11- Altere o programa anterior para mostrar no final a soma dos números."
      ],
      "metadata": {
        "id": "5NuReyMRQdmH"
      }
    },
    {
      "cell_type": "code",
      "source": [
        "# SEU CÓDIGO AQUI...\n",
        "soma =0\n",
        "num1 = int(input(\"Digite o 1º número: \"))\n",
        "num2 = int(input(\"Digite o 2º número: \"))\n",
        "\n",
        "if num1 < num2:\n",
        "  menor = num1\n",
        "  maior = num2\n",
        "\n",
        "print(\"numeros inteiros no intervalo: \")\n",
        "for x in range(menor + 1, maior):\n",
        "  print(x)\n",
        "  soma += x\n",
        "print(\"A soma dos números é:\",soma)"
      ],
      "metadata": {
        "id": "Dw3f5v0dQemp",
        "outputId": "2846bb07-58f3-4d94-c62d-9ff997f1b60a",
        "colab": {
          "base_uri": "https://localhost:8080/"
        }
      },
      "execution_count": 4,
      "outputs": [
        {
          "output_type": "stream",
          "name": "stdout",
          "text": [
            "Digite o 1º número: 1\n",
            "Digite o 2º número: 5\n",
            "numeros inteiros no intervalo: \n",
            "2\n",
            "3\n",
            "4\n",
            "A soma dos números é: 9\n"
          ]
        }
      ]
    },
    {
      "cell_type": "markdown",
      "source": [
        "12- Desenvolva um gerador de tabuada, capaz de gerar a tabuada de qualquer número inteiro entre 1 a 10. O usuário deve informar de qual numero ele deseja ver a tabuada. A saída deve ser conforme o exemplo abaixo:\n",
        "\n",
        "Tabuada de 5:\n",
        "\n",
        "5 X 1 = 5\n",
        "\n",
        "5 X 2 = 10\n",
        "\n",
        "...\n",
        "\n",
        "5 X 10 = 50"
      ],
      "metadata": {
        "id": "JzSUD3yHQiRW"
      }
    },
    {
      "cell_type": "code",
      "source": [
        "# SEU CÓDIGO AQUI...\n",
        "num = int(input(\"Digite um número de 0 a 10:\"))\n",
        "while num < 0 or num > 10:\n",
        "  print(\"Número inválido!\")\n",
        "  num = int(input(\"Digite um número de 0 a 10: \"))\n",
        "  x = 0\n",
        "else:\n",
        "  print(\"Tabuada do\",num)\n",
        "for x in range(0, 11):\n",
        "  print(num,\"X\",x,\"=\",num*x)\n",
        "\n",
        "x += 1\n",
        "\n"
      ],
      "metadata": {
        "id": "BFDcQCFnQnNo",
        "outputId": "8f606ceb-6ca8-40cb-9cd2-5c8930d1da9b",
        "colab": {
          "base_uri": "https://localhost:8080/"
        }
      },
      "execution_count": 20,
      "outputs": [
        {
          "output_type": "stream",
          "name": "stdout",
          "text": [
            "Digite um número de 0 a 10:3\n",
            "Tabuada do 3\n",
            "3 X 0 = 0\n",
            "3 X 1 = 3\n",
            "3 X 2 = 6\n",
            "3 X 3 = 9\n",
            "3 X 4 = 12\n",
            "3 X 5 = 15\n",
            "3 X 6 = 18\n",
            "3 X 7 = 21\n",
            "3 X 8 = 24\n",
            "3 X 9 = 27\n",
            "3 X 10 = 30\n"
          ]
        }
      ]
    },
    {
      "cell_type": "markdown",
      "source": [
        "13- Faça um programa que peça dois números, base e expoente, calcule e mostre o primeiro número elevado ao segundo número. Não utilize a função de potência da linguagem."
      ],
      "metadata": {
        "id": "-LI5xyBNQqq-"
      }
    },
    {
      "cell_type": "code",
      "source": [
        "# SEU CÓDIGO AQUI...\n",
        "num = int(input(\"Digite um número de 0 a 10:\"))\n",
        "num2 = int(input(\"Digite outro número de 0 a 10:\"))\n",
        "while num and num2 < 0 or num and num2 > 10:\n",
        "  print(\"Número inválido!\")\n",
        "  num = int(input(\"Digite um número de 0 a 10: \"))\n",
        "  num2 = int(input(\"Digite um número de 0 a 10: \"))\n",
        "\n"
      ],
      "metadata": {
        "id": "vzAyk0HrQrxn",
        "outputId": "dbc01b87-f4cd-400f-e465-360a66fcadad",
        "colab": {
          "base_uri": "https://localhost:8080/"
        }
      },
      "execution_count": 23,
      "outputs": [
        {
          "name": "stdout",
          "output_type": "stream",
          "text": [
            "Digite um número de 0 a 10:2\n",
            "Digite outro número de 0 a 10:5\n"
          ]
        }
      ]
    },
    {
      "cell_type": "markdown",
      "source": [
        "14- Faça um programa que peça 10 números inteiros, calcule e mostre a quantidade de números pares e a quantidade de números ímpares."
      ],
      "metadata": {
        "id": "1S9PEwRLQuEm"
      }
    },
    {
      "cell_type": "code",
      "source": [
        "# SEU CÓDIGO AQUI..."
      ],
      "metadata": {
        "id": "QUkfEm9CQvWa"
      },
      "execution_count": null,
      "outputs": []
    },
    {
      "cell_type": "markdown",
      "source": [
        "15- A série de Fibonacci é formada pela sequência 1,1,2,3,5,8,13,21,34,55,... Faça um programa capaz de gerar a série até o n−ésimo termo."
      ],
      "metadata": {
        "id": "jivgY60PQxeX"
      }
    },
    {
      "cell_type": "code",
      "source": [
        "# SEU CÓDIGO AQUI..."
      ],
      "metadata": {
        "id": "a31HxmdsQyUU"
      },
      "execution_count": null,
      "outputs": []
    }
  ]
}